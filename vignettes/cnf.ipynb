{
 "cells": [
  {
   "cell_type": "markdown",
   "metadata": {},
   "source": [
    "# Continuous Normalizing Flows"
   ]
  },
  {
   "cell_type": "markdown",
   "metadata": {},
   "source": [
    "TODO: \n",
    "References: \n",
    "1. FFJORD: https://arxiv.org/pdf/1810.01367.pdf\n",
    "2. RNODE-FFJORD (regularized dynamics): https://arxiv.org/pdf/2002.02798.pdf\n",
    "3. ANODE (adjoint-neuralODE): https://arxiv.org/pdf/1902.10298.pdf\n",
    "4. OT-Flow (augmented with optimal transport theory): https://arxiv.org/pdf/2006.00104.pdf "
   ]
  }
 ],
 "metadata": {
  "kernelspec": {
   "display_name": "Python 3",
   "language": "python",
   "name": "python3"
  },
  "language_info": {
   "codemirror_mode": {
    "name": "ipython",
    "version": 3
   },
   "file_extension": ".py",
   "mimetype": "text/x-python",
   "name": "python",
   "nbconvert_exporter": "python",
   "pygments_lexer": "ipython3",
   "version": "3.9.7"
  }
 },
 "nbformat": 4,
 "nbformat_minor": 2
}
